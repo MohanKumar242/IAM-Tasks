{
  "nbformat": 4,
  "nbformat_minor": 0,
  "metadata": {
    "colab": {
      "provenance": [],
      "authorship_tag": "ABX9TyMkeeEPGuVPGZ7f3RRVh+u4",
      "include_colab_link": true
    },
    "kernelspec": {
      "name": "python3",
      "display_name": "Python 3"
    },
    "language_info": {
      "name": "python"
    }
  },
  "cells": [
    {
      "cell_type": "markdown",
      "metadata": {
        "id": "view-in-github",
        "colab_type": "text"
      },
      "source": [
        "<a href=\"https://colab.research.google.com/github/MohanKumar242/IAM-Tasks/blob/main/TASK_6.ipynb\" target=\"_parent\"><img src=\"https://colab.research.google.com/assets/colab-badge.svg\" alt=\"Open In Colab\"/></a>"
      ]
    },
    {
      "cell_type": "code",
      "execution_count": null,
      "metadata": {
        "id": "YzpZXlZJvQIs"
      },
      "outputs": [],
      "source": [
        "Aim:\n",
        "\n",
        "The aim of this task is to learn and practice how to manage user accounts, groups, and access controls in a Linux-based environment (Kali Linux), with a focus on creating user accounts, assigning them to groups, and configuring appropriate access control or ownership levels. This will help understand the principles of Identity Access Management (IAM) and secure user/group administration.\n",
        "\n",
        "Algorithm:\n",
        "\n",
        "1.\tCreate New User Accounts:\n",
        "○\tUse the useradd command to create new users.\n",
        "○\tAssign each user a password using the passwd command.\n",
        "2.\tCreate Groups:\n",
        "○\tUse the groupadd command to create new groups.\n",
        "3.\tAdd Users to Groups:\n",
        "○\tUse the usermod command to add created users to the respective groups.\n",
        "4.\tSet Permissions and Access Control:\n",
        "\n",
        "○\tUse the chmod command to set file permissions for users or groups.\n",
        "○\tUse the chown command to change ownership of files or directories.\n",
        "○\tUse setfacl to set Access Control Lists (ACLs) for more granular permissions.\n",
        "5.\tVerify Configurations:\n",
        "○\tCheck the user and group information using the id, groups, and cat\n",
        "/etc/passwd commands.\n",
        "○\tVerify file ownership and permissions using ls -l and getfacl.\n",
        "\n",
        "\n",
        "Input\n",
        "\n",
        "●\tKali Linux system or VM.\n",
        "●\tUsernames for creating new accounts.\n",
        "●\tGroup names to create.\n",
        "●\tFiles or directories for setting permissions and ownership.\n",
        "●\tUser access control requirements (e.g., read, write, execute).\n",
        "\n",
        "Outputs:\n",
        "\n",
        "●\tCreation of new user accounts.\n",
        "●\tCreation of new groups.\n",
        "●\tUser assignment to appropriate groups.\n",
        "●\tSet permissions and ownership levels for files or directories.\n",
        "●\tAccess control levels defined for different users within the groups.\n",
        "●\tVerification output showing the assigned groups, permissions, and ownership details.\n",
        "\n",
        "Results:\n",
        "\n",
        "●\tUser Accounts: The new users are successfully created, and their credentials (passwords) are set.\n",
        "●\tGroups: New groups are created, and users are successfully added to them.\n",
        "●\tAccess Control: The access control policies (read/write/execute) are applied to files and directories, with proper ownership and permissions set according to requirements.\n",
        "●\tVerification: The system should show correct information for users and groups, and the permissions on files should reflect the changes made.\n",
        "\n"
      ]
    }
  ]
}