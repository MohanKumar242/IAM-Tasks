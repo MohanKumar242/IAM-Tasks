{
  "nbformat": 4,
  "nbformat_minor": 0,
  "metadata": {
    "colab": {
      "provenance": [],
      "authorship_tag": "ABX9TyP5GunxvdYdE+EwCUtR5aYe",
      "include_colab_link": true
    },
    "kernelspec": {
      "name": "python3",
      "display_name": "Python 3"
    },
    "language_info": {
      "name": "python"
    }
  },
  "cells": [
    {
      "cell_type": "markdown",
      "metadata": {
        "id": "view-in-github",
        "colab_type": "text"
      },
      "source": [
        "<a href=\"https://colab.research.google.com/github/MohanKumar242/IAM-Tasks/blob/main/TASK_3.ipynb\" target=\"_parent\"><img src=\"https://colab.research.google.com/assets/colab-badge.svg\" alt=\"Open In Colab\"/></a>"
      ]
    },
    {
      "cell_type": "code",
      "execution_count": null,
      "metadata": {
        "id": "PBEKR0Pftv3R"
      },
      "outputs": [],
      "source": [
        "Aim:\n",
        "\n",
        "The aim of this lab task is to explore how to use OpenSSL for the creation and management of keys and certificates. The task will involve generating key pairs, creating self-signed certificates, managing certificate information, and verifying SSL/TLS certificates on a server using Kali Linux. By the end of this task, you should be able to understand the process of creating secure certificates and verify SSL/TLS connections to ensure proper encryption and security.\n",
        "\n",
        "Algorithm:\n",
        "\n",
        "1.\tInstall OpenSSL on Kali Linux:\n",
        "○\tEnsure that OpenSSL is installed on the Kali Linux system.\n",
        "○\tVerify the installation by checking the version of OpenSSL using the terminal.\n",
        "2.\tGenerate a Private Key:\n",
        "○\tUse OpenSSL to generate a private key, which will be used for securing communications.\n",
        "○\tThe private key is kept secure and is used to generate a public key or certificate.\n",
        "3.\tGenerate a Public Key / Certificate Signing Request (CSR):\n",
        "○\tAfter generating the private key, create a Certificate Signing Request (CSR). This CSR will include information such as the organization name, common name (domain), and public key.\n",
        "○\tOptionally, you can create a self-signed certificate for testing purposes.\n",
        "4.\tCreate a Self-Signed Certificate:\n",
        "○\tUse the private key and CSR to create a self-signed certificate.\n",
        "○\tA self-signed certificate can be used for internal testing or development but should not be used for production environments.\n",
        "5.\tExamine and Identify Certificate Information:\n",
        "○\tUse OpenSSL commands to view and identify information about an existing certificate, such as the subject, issuer, expiration date, and public key.\n",
        "6.\tVerify SSL/TLS Certificates:\n",
        "○\tVerify SSL certificates on a server using OpenSSL’s SSL/TLS verification commands to ensure that the SSL certificate is valid, correctly signed, and matches the expected domain.\n",
        "7.\tTest SSL Connection:\n",
        "○\tUse OpenSSL’s s_client command to test an SSL connection to a server and display the server’s certificate chain, verifying if the SSL/TLS handshake is correctly established.\n",
        "\n",
        "Inputs:\n",
        "\n",
        "●\tKali Linux Platform: The operating system where OpenSSL will be used to generate keys and certificates.\n",
        "●\tOpenSSL Software: A command-line toolkit used for working with SSL certificates and key management.\n",
        "\n",
        "Private Key: The key generated to be kept secret and used for encryption and decryption.\n",
        "●\tCertificate Signing Request (CSR): The file containing the public key and identifying information for the certificate authority (CA) to sign.\n",
        "●\tServer or Website Domain: The domain name or IP address of the server whose SSL certificate is to be verified.\n",
        "\n",
        "Outputs:\n",
        "\n",
        "●\tPrivate Key: A securely generated private key file (typically .key).\n",
        "●\tCertificate Signing Request (CSR): A CSR file containing the public key and identification information (typically .csr).\n",
        "●\tSelf-Signed Certificate: A certificate generated using the private key and CSR, not\n",
        "signed by a trusted certificate authority (CA) (typically .crt).\n",
        "●\tCertificate Information: Detailed information about an SSL certificate, such as its validity, issuer, and public key, can be extracted using OpenSSL commands.\n",
        "●\tSSL/TLS Verification Output: A report on the verification of the SSL certificate during an SSL handshake, including the chain of trust, certificate validity, and any issues detected.\n",
        "\n",
        "Results:\n",
        "\n",
        "●\tSuccessful Key Pair Generation: You will successfully generate a private key and public key (CSR).\n",
        "●\tValid Certificate Creation: A self-signed certificate will be generated from the private key and CSR, which can be used for testing.\n",
        "●\tCertificate Information: The OpenSSL commands will provide detailed information about certificates, including their validity period, issuer, and public key.\n",
        "●\tSSL Verification: After verifying the SSL certificate on a web server, you should receive a confirmation that the certificate is valid, properly signed, and matches the server’s domain name. Any errors or issues with the certificate will be highlighted, such as certificate expiration, invalid issuer, or domain mismatch.\n"
      ]
    }
  ]
}