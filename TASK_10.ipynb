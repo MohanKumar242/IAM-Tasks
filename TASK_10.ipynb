{
  "nbformat": 4,
  "nbformat_minor": 0,
  "metadata": {
    "colab": {
      "provenance": [],
      "authorship_tag": "ABX9TyM2w2bqhRP5Qr46u9JXziwW",
      "include_colab_link": true
    },
    "kernelspec": {
      "name": "python3",
      "display_name": "Python 3"
    },
    "language_info": {
      "name": "python"
    }
  },
  "cells": [
    {
      "cell_type": "markdown",
      "metadata": {
        "id": "view-in-github",
        "colab_type": "text"
      },
      "source": [
        "<a href=\"https://colab.research.google.com/github/MohanKumar242/IAM-Tasks/blob/main/TASK_10.ipynb\" target=\"_parent\"><img src=\"https://colab.research.google.com/assets/colab-badge.svg\" alt=\"Open In Colab\"/></a>"
      ]
    },
    {
      "cell_type": "code",
      "execution_count": null,
      "metadata": {
        "id": "S7CvoF0Zxc--"
      },
      "outputs": [],
      "source": [
        "Aim\n",
        "The objective of this lab is to manage access control on the AWS console by creating user groups and applying attribute-based access control (ABAC) to restrict access to specific AWS resources, such as S3 and EC2 instances. Users will be assigned to different groups, and their permissions will be validated through IAM user sign-in links to ensure proper access restrictions are enforced.\n",
        "\n",
        "Algorithm\n",
        "1.\tCreate IAM Users: Create a set of IAM users who will require access to various AWS services (e.g., EC2, S3).\n",
        "2.\tCreate User Groups: Define and create user groups with different access policies based on attributes such as department, role, or project.\n",
        "3.\tDefine ABAC Policies: Create attribute-based access control (ABAC) policies using IAM policy documents. These policies define what resources (e.g., EC2, S3) can be accessed by which user groups based on specific attributes.\n",
        "4.\tAssign Users to Groups: Assign the previously created IAM users to the appropriate user groups.\n",
        "5.\tApply Policies: Attach the relevant IAM policies to each user group, ensuring the correct level of access (e.g., read-only access, full access) to AWS resources like S3 buckets and EC2 instances.\n",
        "6.\tSign in and Validate: Use IAM user sign-in links to check the actual permissions of each user. Access restrictions will be validated by attempting to interact with EC2 instances and S3 buckets.\n",
        "7.\tMonitor and Audit: Utilize CloudTrail or AWS IAM Access Analyzer to monitor and audit the actions of users to ensure that the policies are correctly enforced.\n",
        "\n",
        "Inputs\n",
        "●\tAWS Console credentials (root account or an admin user).\n",
        "●\tIAM policies specifying permissions (e.g., S3 access, EC2 access).\n",
        "●\tAttributes (e.g., department, project, role) for ABAC.\n",
        "●\tList of users to be created.\n",
        "●\tS3 buckets and EC2 instances for validation.\n",
        "\n",
        "Outputs\n",
        "●\tIAM user groups with attribute-based access control policies applied.\n",
        "●\tIAM users added to the respective groups.\n",
        "●\tValidation of user access to S3 and EC2 instances.\n",
        "●\tLogs of successful and failed access attempts based on policy enforcement.\n",
        "\n",
        "Results\n",
        "\n",
        "●\tUser Permissions: Each IAM user is granted permissions based on the assigned group and ABAC policies. The permissions can range from read-only access to full administrative access for specific AWS resources.\n",
        "●\tAccess Restrictions: The access restrictions for each user are validated using the IAM user sign-in link and checked against EC2 instances and S3 buckets.\n",
        "●\tPolicy Validation: The defined ABAC policies are tested, ensuring that only users with the correct attributes can access specific resources (e.g., only users in the \"Finance\" group can access the finance-related S3 bucket).\n"
      ]
    }
  ]
}