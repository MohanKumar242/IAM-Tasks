{
  "nbformat": 4,
  "nbformat_minor": 0,
  "metadata": {
    "colab": {
      "provenance": [],
      "authorship_tag": "ABX9TyMOxMYWPPWXtLNswJe1Cxhd",
      "include_colab_link": true
    },
    "kernelspec": {
      "name": "python3",
      "display_name": "Python 3"
    },
    "language_info": {
      "name": "python"
    }
  },
  "cells": [
    {
      "cell_type": "markdown",
      "metadata": {
        "id": "view-in-github",
        "colab_type": "text"
      },
      "source": [
        "<a href=\"https://colab.research.google.com/github/MohanKumar242/IAM-Tasks/blob/main/TASK_5.ipynb\" target=\"_parent\"><img src=\"https://colab.research.google.com/assets/colab-badge.svg\" alt=\"Open In Colab\"/></a>"
      ]
    },
    {
      "cell_type": "code",
      "execution_count": null,
      "metadata": {
        "id": "GU9t3tgnuhuA"
      },
      "outputs": [],
      "source": [
        "Aim:\n",
        "\n",
        "The aim of this lab task is to demonstrate how to implement firewall rules for access control management on Kali Linux. This will involve creating restrictions for services based on their service names and port numbers using the iptables firewall tool. By the end of this task, you should be able to configure firewall rules that manage network traffic, block or allow specific services, and ensure proper security controls are in place for the system.\n",
        "\n",
        "Algorithm:\n",
        "\n",
        "1.\tIdentify the Services to Restrict:\n",
        "○\tDetermine the services running on the system (e.g., SSH, HTTP, FTP) and the port numbers associated with these services (e.g., port 22 for SSH, port 80 for HTTP).\n",
        "2.\tCheck Existing Firewall Rules:\n",
        "○\tBefore implementing new rules, check the existing firewall rules using the\n",
        "iptables command to avoid conflicts or redundant rules.\n",
        "3.\tImplement Firewall Rules:\n",
        "○\tUse iptables to create rules based on the service names and port numbers.\n",
        "\n",
        "○\tFor example, block or allow access to specific services by using their port numbers (e.g., block HTTP traffic on port 80 or allow SSH traffic on port 22).\n",
        "4.\tVerify Firewall Rules:\n",
        "○\tAfter implementing the rules, verify their effectiveness by checking the list of active rules using the iptables command.\n",
        "5.\tTest the Service Restrictions:\n",
        "○\tTest if the firewall rules are correctly applied by attempting to access the restricted services.\n",
        "○\tFor example, try connecting to a restricted port or service (e.g., SSH or HTTP) from a remote machine.\n",
        "6.\tAudit and Maintain:\n",
        "○\tContinuously audit the firewall settings to ensure that the rules are up to date and appropriately restrict or allow services based on the defined policies.\n",
        "\n",
        "Inputs:\n",
        "\n",
        "●\tKali Linux Platform: The operating system used for implementing firewall rules and service access control.\n",
        "●\tService Information: The names and port numbers of services you want to control access to (e.g., HTTP on port 80, SSH on port 22).\n",
        "●\tIptables Commands: Commands used to configure the firewall rules.\n",
        "●\tNetwork Configuration: IP addresses or subnets that need to be allowed or blocked for specific services.\n",
        "\n",
        "Outputs:\n",
        "\n",
        "●\tFirewall Rules: A set of configured firewall rules that control access to services based on port numbers or service names.\n",
        "●\tService Access Control: Implementation of access control to services, allowing or blocking traffic to specified ports or services.\n",
        "●\tAudit Log: The status of the firewall rules and any logs indicating blocked or allowed access attempts.\n",
        "\n",
        "Results:\n",
        "\n",
        "●\tRestricted Services: After implementing the firewall rules, the specified services will either be blocked or allowed based on the configured rules.\n",
        "●\tService Accessibility Test: Testing will confirm whether services like SSH or HTTP are properly restricted or accessible based on the firewall rules.\n",
        "●\tFirewall Rule Verification: The rules will be verified using iptables to ensure that the traffic is appropriately filtered according to the requirements.\n",
        "●\tSecurity Hardening: The system will be more secure by restricting unnecessary services or controlling access to sensitive ports, ensuring that only authorized traffic is allowed.\n",
        "\n"
      ]
    }
  ]
}