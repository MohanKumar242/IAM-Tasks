{
  "nbformat": 4,
  "nbformat_minor": 0,
  "metadata": {
    "colab": {
      "provenance": [],
      "authorship_tag": "ABX9TyPHt+w1M86l6zivYrYjykqM",
      "include_colab_link": true
    },
    "kernelspec": {
      "name": "python3",
      "display_name": "Python 3"
    },
    "language_info": {
      "name": "python"
    }
  },
  "cells": [
    {
      "cell_type": "markdown",
      "metadata": {
        "id": "view-in-github",
        "colab_type": "text"
      },
      "source": [
        "<a href=\"https://colab.research.google.com/github/MohanKumar242/IAM-Tasks/blob/main/TASK-11.ipynb\" target=\"_parent\"><img src=\"https://colab.research.google.com/assets/colab-badge.svg\" alt=\"Open In Colab\"/></a>"
      ]
    },
    {
      "cell_type": "code",
      "execution_count": null,
      "metadata": {
        "id": "GrcaECPBx1xi"
      },
      "outputs": [],
      "source": [
        "Aim:\n",
        "The aim of this lab is to develop a web application that allows users to authenticate using social login via Open Authentication (OAuth) protocols. Specifically, we will integrate social login services such as Google, Facebook, and GitHub for user authentication in the web application.\n",
        "\n",
        "Algorithm:\n",
        "1.\tUser Initiates Login:\n",
        "○\tThe user clicks on a social login button (e.g., \"Login with Google\").\n",
        "2.\tRedirect to OAuth Provider:\n",
        "○\tThe web application redirects the user to the chosen social media provider (Google, Facebook, etc.), requesting permission to access the user's authentication data.\n",
        "3.\tOAuth Provider Authentication:\n",
        "○\tThe user is prompted to log in to their social media account (if not already logged in).\n",
        "○\tThe user grants permission to the application to access their basic profile information.\n",
        "4.\tAuthorization Code Exchange:\n",
        "○\tThe OAuth provider returns an authorization code to the application after successful user authentication and permission grant.\n",
        "5.\tToken Request:\n",
        "○\tThe application sends the authorization code to the OAuth provider’s token endpoint to exchange it for an access token and possibly a refresh token.\n",
        "6.\tAccess Token Use:\n",
        "○\tThe application uses the access token to request the user’s profile information (name, email, etc.) from the OAuth provider.\n",
        "7.\tCreate User Session:\n",
        "○\tOnce the profile information is retrieved, the web application creates a session for the user.\n",
        "○\tThe user is authenticated and redirected to the protected section of the web application.\n",
        "8.\tLogout:\n",
        "○\tThe user can log out by destroying the session, which invalidates their authentication status.\n",
        "\n",
        "Inputs:\n",
        "1.\tUser Inputs:\n",
        "○\tUser clicks the \"Login with Google/Facebook/GitHub\" button.\n",
        "○\tUser credentials (username/password) when prompted by the OAuth provider (if not already logged in).\n",
        "2.\tApplication Inputs:\n",
        "○\tClient ID, Client Secret, Redirect URI, and Authorization Endpoint for each\n",
        "\n",
        "OAuth provider.\n",
        "\n",
        "Outputs:\n",
        "1.\tSuccessful Authentication:\n",
        "○\tAccess Token and possibly a Refresh Token.\n",
        "○\tUser's Profile Information (name, email, etc.).\n",
        "○\tAuthenticated Session Token.\n",
        "2.\tFailure to Authenticate:\n",
        "○\tError message explaining the issue (e.g., permission denied, invalid credentials).\n",
        "\n",
        "Results:\n",
        "●\tSuccessful Social Login:\n",
        "○\tThe user is able to log in to the web application using their social media account (Google/Facebook/GitHub), and their session is established with the relevant profile data.\n",
        "●\tUnsuccessful Login:\n",
        "○\tIf the user denies permission, or if authentication fails due to incorrect credentials, the web application displays an appropriate error message.\n",
        "\n"
      ]
    }
  ]
}