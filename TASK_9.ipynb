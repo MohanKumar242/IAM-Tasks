{
  "nbformat": 4,
  "nbformat_minor": 0,
  "metadata": {
    "colab": {
      "provenance": [],
      "authorship_tag": "ABX9TyNj1YZf49lfNubt+PE8TN0V",
      "include_colab_link": true
    },
    "kernelspec": {
      "name": "python3",
      "display_name": "Python 3"
    },
    "language_info": {
      "name": "python"
    }
  },
  "cells": [
    {
      "cell_type": "markdown",
      "metadata": {
        "id": "view-in-github",
        "colab_type": "text"
      },
      "source": [
        "<a href=\"https://colab.research.google.com/github/MohanKumar242/IAM-Tasks/blob/main/TASK_9.ipynb\" target=\"_parent\"><img src=\"https://colab.research.google.com/assets/colab-badge.svg\" alt=\"Open In Colab\"/></a>"
      ]
    },
    {
      "cell_type": "code",
      "execution_count": null,
      "metadata": {
        "id": "YQSWOswiwzO5"
      },
      "outputs": [],
      "source": [
        "Aim:\n",
        "The aim of this task is to demonstrate how to delegate access management across the AWS Management Console using different IAM (Identity and Access Management) roles. Specifically, it involves the creation of user identities, defining user roles, and configuring admin roles to control the level of access granted to users within AWS.\n",
        "\n",
        "Algorithm:\n",
        "1.\tCreate IAM User Identity:\n",
        "○\tLog in to the AWS Management Console with admin privileges.\n",
        "○\tNavigate to IAM (Identity and Access Management) service.\n",
        "○\tCreate new IAM users with unique identities (User 1, User 2, etc.).\n",
        "○\tAssign login credentials (either through AWS Management Console or programmatic access).\n",
        "2.\tDefine User Roles:\n",
        "○\tIn the IAM console, assign the necessary permissions to each user. This can be done through policies.\n",
        "○\tAttach existing managed policies or create custom policies based on the user requirements (e.g., limited access to certain AWS services).\n",
        "○\tDefine the roles that restrict or allow specific actions (like read-only access, EC2 management access, etc.).\n",
        "3.\tDefine Admin Roles:\n",
        "○\tCreate roles with administrative permissions for users who will have full access to AWS resources.\n",
        "○\tAttach policies like AdministratorAccess to grant full control.\n",
        "○\tAssign these roles to appropriate IAM users (admin users).\n",
        "4.\tVerify User Access:\n",
        "○\tTest the access of each user (regular and admin) by logging in as them.\n",
        "○\tVerify that the permissions and roles are correctly applied and ensure that users can only access services that their roles allow.\n",
        "5.\tDelegation of Access:\n",
        "○\tSet up cross-account access if needed, or create IAM roles that users can assume to gain specific permissions.\n",
        "○\tImplement MFA (Multi-Factor Authentication) for extra security.\n",
        "\n",
        "Inputs:\n",
        "●\tAWS Account: An active AWS account with administrator access.\n",
        "●\tIAM Service: Access to the AWS IAM (Identity and Access Management) Console.\n",
        "●\tUser Information: Details for creating IAM user accounts (username, email, etc.).\n",
        "●\tIAM Policies: Predefined or custom policies for user roles and permissions.\n",
        "●\tRole Definitions: Admin and user role definitions (e.g., AdministratorAccess, ReadOnlyAccess, etc.).\n",
        "\n",
        "●\tAWS Services: List of AWS services the users need access to (e.g., EC2, S3, Lambda, etc.).\n",
        "\n",
        "Outputs:\n",
        "●\tCreated IAM Users: A list of IAM users created with their respective access credentials.\n",
        "●\tAssigned Roles: The roles assigned to each IAM user (admin, user, etc.).\n",
        "●\tAccess Permissions: The exact permissions granted to users based on the roles.\n",
        "●\tAccess Verification: Confirmation that the users have correct access to the AWS resources based on their assigned roles.\n",
        "\n",
        "Results:\n",
        "1.\tUser Access Validation:\n",
        "○\tNon-admin users should only have access to services or resources allowed by their role (e.g., ReadOnlyAccess).\n",
        "○\tAdmin users should have full control over all resources.\n",
        "2.\tDelegated Access Confirmation:\n",
        "○\tUsers can be delegated access to assume roles or use resources as defined.\n",
        "○\tPolicies should be accurately enforced, ensuring no unnecessary permissions are granted.\n",
        "3.\tSecurity Considerations:\n",
        "○\tAccess control is enforced at the granularity required.\n",
        "○\tMFA and other security measures (e.g., least privilege access) can be validated.\n",
        "\n"
      ]
    }
  ]
}