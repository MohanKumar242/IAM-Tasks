{
  "nbformat": 4,
  "nbformat_minor": 0,
  "metadata": {
    "colab": {
      "provenance": [],
      "authorship_tag": "ABX9TyOwlgy5ZJNXx+CYGFXoDpEc",
      "include_colab_link": true
    },
    "kernelspec": {
      "name": "python3",
      "display_name": "Python 3"
    },
    "language_info": {
      "name": "python"
    }
  },
  "cells": [
    {
      "cell_type": "markdown",
      "metadata": {
        "id": "view-in-github",
        "colab_type": "text"
      },
      "source": [
        "<a href=\"https://colab.research.google.com/github/MohanKumar242/IAM-Tasks/blob/main/TASK_8.ipynb\" target=\"_parent\"><img src=\"https://colab.research.google.com/assets/colab-badge.svg\" alt=\"Open In Colab\"/></a>"
      ]
    },
    {
      "cell_type": "code",
      "execution_count": null,
      "metadata": {
        "id": "RlSwvE2dweIw"
      },
      "outputs": [],
      "source": [
        "\n",
        "Aim:\n",
        "The aim of this task is to explore and implement identity management using Auth0. Specifically, the task will focus on:\n",
        "\n",
        "1.\tCreating a customer-managed policy for fine-grained control over user access.\n",
        "2.\tAllowing users to manage their own credentials, providing self-service capabilities for users to update and maintain their login credentials securely.\n",
        "\n",
        "This will help in understanding how to configure and utilize Auth0 for enterprise-level identity management, including user authentication and authorization.\n",
        "\n",
        "Algorithm:\n",
        "1.\tSetting up Auth0:\n",
        "○\tCreate an Auth0 account and set up a new application.\n",
        "○\tConfigure necessary settings, such as allowed callback URLs, client ID, and secret.\n",
        "2.\tCreation of Customer Managed Policy:\n",
        "○\tDefine a policy that specifies the rules and permissions for users.\n",
        "○\tCustomize the policy to meet the specific access control needs (e.g., allowing only certain roles or conditions for access).\n",
        "○\tCreate and assign roles for users based on the policy.\n",
        "3.\tAllowing Users to Manage Their Credentials:\n",
        "○\tEnable the Auth0 \"Self-Management\" feature for user credentials.\n",
        "○\tConfigure user profile management, including password reset, update, and multi-factor authentication.\n",
        "○\tImplement the necessary APIs for allowing users to modify their credentials via the Auth0 dashboard.\n",
        "4.\tTesting and Validation:\n",
        "○\tTest the self-service credential management features with different user roles.\n",
        "○\tValidate that the customer-managed policy correctly restricts or allows access as intended.\n",
        "\n",
        "Inputs:\n",
        "●\tAuth0 Account: A registered Auth0 account with access to the dashboard.\n",
        "●\tApplication Configuration: Necessary configurations such as callback URLs, client IDs, and secret keys.\n",
        "●\tUser Data: Information about users, such as roles, authentication methods (email/password, multi-factor authentication, etc.), and access permissions.\n",
        "●\tAPI Keys & Tokens: Auth0 credentials like API keys to interact programmatically with Auth0 endpoints.\n",
        "●\tCustom Policies: Rules, permissions, and roles to manage user access.\n",
        "\n",
        "Outputs:\n",
        "●\tCustomer Managed Policy: A custom policy with rules specifying which users can access which resources or perform specific actions based on their roles.\n",
        "●\tUser Credential Management Interface: An interface that allows users to update or reset their passwords, manage multi-factor authentication, and modify their profile data.\n",
        "●\tLogs and Reports: Logs from Auth0 showing user activity, policy enforcement, and credential management actions.\n",
        "\n",
        "\n",
        "Results:\n",
        "●\tSuccessful Creation of Customer Managed Policy: The policy is successfully created and applied to the users, restricting or allowing access based on roles.\n",
        "●\tUser Credential Management: Users are able to manage their credentials, such as changing their passwords and enabling/disabling multi-factor authentication.\n",
        "●\tAccess Control Compliance: The customer-managed policy ensures proper enforcement of user access control based on the defined rules and roles.\n",
        "●\tError-Free Operation: No critical errors occur during the user credential management process, and policies work as expected for different user roles.\n"
      ]
    }
  ]
}