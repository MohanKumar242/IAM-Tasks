{
  "nbformat": 4,
  "nbformat_minor": 0,
  "metadata": {
    "colab": {
      "provenance": [],
      "authorship_tag": "ABX9TyNUAjT1dW3VpLvf66bSOHD6",
      "include_colab_link": true
    },
    "kernelspec": {
      "name": "python3",
      "display_name": "Python 3"
    },
    "language_info": {
      "name": "python"
    }
  },
  "cells": [
    {
      "cell_type": "markdown",
      "metadata": {
        "id": "view-in-github",
        "colab_type": "text"
      },
      "source": [
        "<a href=\"https://colab.research.google.com/github/MohanKumar242/IAM-Tasks/blob/main/TASK_2(VTU_24284).ipynb\" target=\"_parent\"><img src=\"https://colab.research.google.com/assets/colab-badge.svg\" alt=\"Open In Colab\"/></a>"
      ]
    },
    {
      "cell_type": "code",
      "execution_count": null,
      "metadata": {
        "id": "6YiBsyBdtTA7"
      },
      "outputs": [],
      "source": [
        "Aim:\n",
        "\n",
        "The aim of this lab task is to create a user identity, manage associated credentials, and identify and address potential vulnerabilities using Greenbone Security Assistant (GSA) in OpenVAS, a security scanner tool, on Kali Linux. This task will help in understanding how to perform vulnerability assessments and manage credentials securely.\n",
        "\n",
        "Algorithm:\n",
        "\n",
        "1.\tInstall OpenVAS on Kali Linux:\n",
        "○\tOpen a terminal in Kali Linux.\n",
        "○\tRun the necessary commands to install OpenVAS (Greenbone Vulnerability Manager).\n",
        "○\tConfigure OpenVAS and initialize the necessary databases and services.\n",
        "2.\tLaunch Greenbone Security Assistant (GSA):\n",
        "○\tAfter installation, open the GSA web interface from a browser (typically\n",
        "https://localhost:9392).\n",
        "3.\tCreate a User Identity:\n",
        "○\tLog in to the GSA interface.\n",
        "\n",
        "○\tNavigate to the “Users” tab and create a new user identity by specifying the user’s details (name, role, and permissions).\n",
        "4.\tSet Up Credentials:\n",
        "○\tWithin the GSA interface, go to the “Credentials” tab.\n",
        "○\tDefine credentials that might be required for accessing specific systems during vulnerability scanning (e.g., SSH, SNMP, HTTP login credentials).\n",
        "○\tThese credentials will help OpenVAS perform authenticated scans, allowing for more in-depth vulnerability detection.\n",
        "5.\tConfigure a Scan Task:\n",
        "○\tCreate a new scan task by specifying the target (IP addresses or domain).\n",
        "○\tChoose the scan configurations, such as port scan, services detection, or specific vulnerability checks.\n",
        "○\tAssign the previously created credentials to the scan task if authenticated scanning is required.\n",
        "6.\tRun the Scan:\n",
        "○\tExecute the scan on the configured target to assess the security posture of the system.\n",
        "7.\tAnalyze Scan Results:\n",
        "○\tOnce the scan completes, analyze the findings in the \"Results\" section of GSA.\n",
        "○\tIdentify vulnerabilities associated with the scanned system, noting their severity (low, medium, high).\n",
        "8.\tMitigate Vulnerabilities:\n",
        "○\tBased on the identified vulnerabilities, propose appropriate remediation actions to mitigate or fix the issues (e.g., software patches, configuration changes).\n",
        "9.\tRe-scan After Remediation:\n",
        "○\tAfter applying fixes or changes, re-run the scan to verify that the vulnerabilities have been mitigated.\n",
        "\n",
        "Inputs:\n",
        "\n",
        "●\tKali Linux platform with OpenVAS installed and configured.\n",
        "●\tTarget IP/Network: The system or network that will be scanned.\n",
        "●\tUser Credentials: Credentials (username/password) for authenticated scanning of the target system (e.g., SSH, SMB, SNMP).\n",
        "●\tGreenbone Security Assistant (GSA) Web Interface: Access to the OpenVAS web interface to manage tasks and analyze results.\n",
        "\n",
        "Outputs:\n",
        "\n",
        "●\tVulnerability Scan Report: The output of the scan will include a detailed report listing the discovered vulnerabilities, their severity, and recommendations for mitigation.\n",
        "●\tUser Identity and Credential Management: The created user identity and associated credentials will be securely stored and managed in the GSA interface.\n",
        "●\tMitigation Recommendations: After analysis, the vulnerabilities identified in the scan will come with suggestions for mitigating them.\n",
        "\n",
        "●\tRe-scan Results: After remediation, a re-scan will confirm whether the vulnerabilities were successfully addressed.\n",
        "\n",
        "Results:\n",
        "\n",
        "●\tVulnerability Identification: A detailed list of vulnerabilities for the scanned system will be provided, categorized by severity. This helps administrators understand where their security posture is weak.\n",
        "●\tCredential and Identity Management: The process of creating and managing user identities and credentials in GSA will demonstrate how authenticated scans are performed to reveal more sensitive vulnerabilities.\n",
        "●\tSecurity Improvement: By following through with the scan results and remediation, the security of the scanned target system should improve.\n"
      ]
    }
  ]
}